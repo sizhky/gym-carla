{
 "cells": [
  {
   "cell_type": "code",
   "execution_count": 1,
   "metadata": {
    "ExecuteTime": {
     "end_time": "2020-11-27T10:52:50.041304Z",
     "start_time": "2020-11-27T10:52:49.365388Z"
    }
   },
   "outputs": [],
   "source": [
    "%load_ext autoreload\n",
    "%autoreload 2\n",
    "from model import DQNetworkImageSensor\n",
    "from actor import Actor\n",
    "from torch_snippets import *\n",
    "from collections import deque"
   ]
  },
  {
   "cell_type": "code",
   "execution_count": 2,
   "metadata": {
    "ExecuteTime": {
     "end_time": "2020-11-27T10:53:10.656865Z",
     "start_time": "2020-11-27T10:52:50.042416Z"
    },
    "code_folding": []
   },
   "outputs": [
    {
     "name": "stdout",
     "output_type": "stream",
     "text": [
      "pygame 1.9.6\n",
      "Hello from the pygame community. https://www.pygame.org/contribute.html\n",
      "connecting to Carla server...\n",
      "Carla server connected!\n"
     ]
    }
   ],
   "source": [
    "import gym\n",
    "import gym_carla\n",
    "import carla\n",
    "params = {\n",
    "    'number_of_vehicles': 10,\n",
    "    'number_of_walkers': 0,\n",
    "    'display_size': 384,  # screen size of bird-eye render\n",
    "    'max_past_step': 1,  # the number of past steps to draw\n",
    "    'dt': 0.1,  # time interval between two frames\n",
    "    'discrete': True,  # whether to use discrete control space\n",
    "    'discrete_acc': [-5.0, 0, 5],  # discrete value of accelerations\n",
    "    'discrete_steer': [-0.2, 0.0, 0.2],  # discrete value of steering angles\n",
    "    'continuous_accel_range': [-3.0, 3.0],  # continuous acceleration range\n",
    "    'continuous_steer_range': [-0.3, 0.3],  # continuous steering angle range\n",
    "    'ego_vehicle_filter': 'vehicle.lincoln*',  # filter for defining ego vehicle\n",
    "    'port': 2000,  # connection port\n",
    "    'town': 'Town03',  # which town to simulate\n",
    "    'task_mode': 'random',  # mode of the task, [random, roundabout (only for Town03)]\n",
    "    'max_time_episode': 1000,  # maximum timesteps per episode\n",
    "    'max_waypt': 12,  # maximum number of waypoints\n",
    "    'obs_range': 32,  # observation range (meter)\n",
    "    'lidar_bin': 0.125,  # bin size of lidar sensor (meter)\n",
    "    'd_behind': 12,  # distance behind the ego vehicle (meter)\n",
    "    'out_lane_thres': 2.0,  # threshold for out of lane\n",
    "    'desired_speed': 8,  # desired speed (m/s)\n",
    "    'max_ego_spawn_times': 200,  # maximum times to spawn ego vehicle\n",
    "    'display_route': True,  # whether to render the desired route\n",
    "    'pixor_size': 64,  # size of the pixor labels\n",
    "    'pixor': False,  # whether to output PIXOR observation\n",
    "}\n",
    "\n",
    "# Set gym-carla environment\n",
    "env = gym.make('carla-v0', params=params)\n",
    "preprocess = lambda im: im.transpose(2,0,1) / 255. # torch.Tensor(im).permute(1,2,0) / 255.\n"
   ]
  },
  {
   "cell_type": "code",
   "execution_count": 5,
   "metadata": {
    "ExecuteTime": {
     "end_time": "2020-11-27T10:56:29.568552Z",
     "start_time": "2020-11-27T10:54:18.385122Z"
    }
   },
   "outputs": [
    {
     "name": "stdout",
     "output_type": "stream",
     "text": [
      "1448.8597431283097\n"
     ]
    }
   ],
   "source": [
    "load_path = 'fast-car-v2.pth'\n",
    "\n",
    "actor = Actor()\n",
    "if load_path is not None:\n",
    "    actor.qnetwork_local.load_state_dict(torch.load(load_path))\n",
    "    actor.qnetwork_target.load_state_dict(torch.load(load_path))\n",
    "else:\n",
    "    pass\n",
    "\n",
    "max_t = 1000\n",
    "state = env.reset()\n",
    "image, lidar, sensor = state['camera'], state['lidar'], state['state']\n",
    "image, lidar = preprocess(image), preprocess(lidar)\n",
    "state_dict = {'image': image, 'lidar': lidar, 'sensor': sensor}\n",
    "score = 0\n",
    "\n",
    "for t in range(max_t):\n",
    "    action = actor.act(state_dict, 0)\n",
    "    next_state, reward, done, _  = env.step(action)\n",
    "    image, lidar, sensor = next_state['camera'], next_state['lidar'], next_state['state']\n",
    "    image, lidar = preprocess(image), preprocess(lidar)\n",
    "    next_state_dict = {'image': image, 'lidar': lidar, 'sensor': sensor}\n",
    "    state_dict = next_state_dict\n",
    "    score += reward\n",
    "    if done:\n",
    "        break\n",
    "print(score)"
   ]
  },
  {
   "cell_type": "code",
   "execution_count": null,
   "metadata": {},
   "outputs": [],
   "source": []
  }
 ],
 "metadata": {
  "kernelspec": {
   "display_name": "Python 3",
   "language": "python",
   "name": "python3"
  },
  "language_info": {
   "codemirror_mode": {
    "name": "ipython",
    "version": 3
   },
   "file_extension": ".py",
   "mimetype": "text/x-python",
   "name": "python",
   "nbconvert_exporter": "python",
   "pygments_lexer": "ipython3",
   "version": "3.7.6"
  }
 },
 "nbformat": 4,
 "nbformat_minor": 4
}
